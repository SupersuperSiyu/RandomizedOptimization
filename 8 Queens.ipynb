{
 "cells": [
  {
   "cell_type": "code",
   "execution_count": 1,
   "id": "ad09246b",
   "metadata": {},
   "outputs": [],
   "source": [
    "import mlrose_hiive\n",
    "import numpy as np\n",
    "\n",
    "from mlrose_hiive import QueensGenerator, MaxKColorGenerator, TSPGenerator, KnapsackGenerator\n",
    "from mlrose_hiive import SARunner, GARunner, NNGSRunner\n",
    "from matplotlib import pyplot as plt\n",
    "from numpy import inf\n",
    "import time"
   ]
  },
  {
   "cell_type": "code",
   "execution_count": 2,
   "id": "732ea90f",
   "metadata": {},
   "outputs": [],
   "source": [
    "# Generate a new TSP problem using a fixed seed.\n",
    "problem_fit = QueensGenerator().generate(seed=123456, size=8)"
   ]
  },
  {
   "cell_type": "code",
   "execution_count": 3,
   "id": "e3055bdf",
   "metadata": {},
   "outputs": [
    {
     "name": "stdout",
     "output_type": "stream",
     "text": [
      "3.432790517807007\n",
      "[0 6 3 5 7 1 4 6]\n",
      "1.0\n"
     ]
    }
   ],
   "source": [
    "# Solve problem using the genetic algorithm\n",
    "#GA POPSIZE = 200\n",
    "start = time.time()\n",
    "best_state, best_fitness,fitness_curve = mlrose_hiive.genetic_alg(problem_fit, max_attempts=100,random_state = 2,curve=True,max_iters=50,pop_size=200)\n",
    "end = time.time()\n",
    "print(end-start)\n",
    "print(best_state)\n",
    "print(best_fitness)"
   ]
  },
  {
   "cell_type": "code",
   "execution_count": 8,
   "id": "c66f756d",
   "metadata": {},
   "outputs": [
    {
     "name": "stdout",
     "output_type": "stream",
     "text": [
      "2.973581075668335\n",
      "[5 2 6 3 0 7 1 4]\n",
      "0.0\n"
     ]
    }
   ],
   "source": [
    "#GA POPSIZE = 250\n",
    "start = time.time()\n",
    "best_state, best_fitness,fitness_curve_pro = mlrose_hiive.genetic_alg(problem_fit, max_attempts=100,random_state = 2,curve=True,max_iters=50,pop_size=250)\n",
    "end = time.time()\n",
    "print(end-start)\n",
    "print(best_state)\n",
    "print(best_fitness)"
   ]
  },
  {
   "cell_type": "code",
   "execution_count": 10,
   "id": "b2345a21",
   "metadata": {},
   "outputs": [],
   "source": [
    "curve_GA = fitness_curve_pro\n",
    "fitness_GA = best_fitness\n",
    "time_GA = end-start"
   ]
  },
  {
   "cell_type": "code",
   "execution_count": 6,
   "id": "f36514e2",
   "metadata": {},
   "outputs": [
    {
     "name": "stdout",
     "output_type": "stream",
     "text": [
      "0.5925922393798828\n",
      "[5 0 6 3 5 7 1 4]\n",
      "1.0\n"
     ]
    }
   ],
   "source": [
    "#GA POPSIZE = 150\n",
    "start = time.time()\n",
    "best_state, best_fitness,fitness_curve_pro2 = mlrose_hiive.genetic_alg(problem_fit, max_attempts=100,random_state = 2,curve=True,max_iters=50,pop_size=50)\n",
    "end = time.time()\n",
    "print(end-start)\n",
    "print(best_state)\n",
    "print(best_fitness)"
   ]
  },
  {
   "cell_type": "code",
   "execution_count": 7,
   "id": "91467328",
   "metadata": {},
   "outputs": [
    {
     "data": {
      "text/plain": [
       "<matplotlib.legend.Legend at 0x2915cf1cd60>"
      ]
     },
     "execution_count": 7,
     "metadata": {},
     "output_type": "execute_result"
    },
    {
     "data": {
      "image/png": "[encoded data removed]",
      "text/plain": [
       "<Figure size 432x288 with 1 Axes>"
      ]
     },
     "metadata": {
      "needs_background": "light"
     },
     "output_type": "display_data"
    }
   ],
   "source": [
    "# Note that even in the OO-style, we use `.pyplot.figure` to create the figure.\n",
    "fig, ax = plt.subplots()  # Create a figure and an axes.\n",
    "ax.plot(range(0,len(list(fitness_curve_pro2))), -fitness_curve_pro2[:,0], label='pop_size = 150')  # ... and some more.\n",
    "ax.plot(range(0,len(list(fitness_curve))), -fitness_curve[:,0], label='pop_size = 200')  # Plot some data on the axes.\n",
    "ax.plot(range(0,len(list(fitness_curve_pro))), -fitness_curve_pro[:,0], label='pop_size = 250')  # Plot more data on the axes...\n",
    "ax.set_xlabel('Iterations')  # Add an x-label to the axes.\n",
    "ax.set_ylabel('Fitness')  # Add a y-label to the axes.\n",
    "ax.set_title(\"Genetic Algorithm Iteration vs Fitness\")  # Add a title to the axes.\n",
    "ax.legend()  # Add a legend."
   ]
  },
  {
   "cell_type": "code",
   "execution_count": 11,
   "id": "62e6312b",
   "metadata": {},
   "outputs": [
    {
     "name": "stdout",
     "output_type": "stream",
     "text": [
      "0.020800352096557617\n",
      "[0 7 5 1 6 0 2 4]\n",
      "2.0\n"
     ]
    }
   ],
   "source": [
    "#RCH RESTARTS=0\n",
    "start = time.time()\n",
    "best_state, best_fitness,fitness_curve = mlrose_hiive.random_hill_climb(problem_fit, max_attempts=100, max_iters=100, restarts=0, init_state=None, curve=True, random_state=2)\n",
    "end = time.time()\n",
    "print(end-start)\n",
    "print(best_state)\n",
    "print(best_fitness)"
   ]
  },
  {
   "cell_type": "code",
   "execution_count": 12,
   "id": "89090a4c",
   "metadata": {},
   "outputs": [
    {
     "name": "stdout",
     "output_type": "stream",
     "text": [
      "0.26128482818603516\n",
      "[1 5 2 0 7 0 4 6]\n",
      "1.0\n"
     ]
    }
   ],
   "source": [
    "#RCH RESTARTS=10\n",
    "start = time.time()\n",
    "best_state, best_fitness,fitness_curve_pro = mlrose_hiive.random_hill_climb(problem_fit, max_attempts=100, max_iters=100, restarts=10, init_state=None, curve=True, random_state=2)\n",
    "end = time.time()\n",
    "print(end-start)\n",
    "print(best_state)\n",
    "print(best_fitness)"
   ]
  },
  {
   "cell_type": "code",
   "execution_count": 13,
   "id": "77c277c8",
   "metadata": {},
   "outputs": [
    {
     "name": "stdout",
     "output_type": "stream",
     "text": [
      "0.029900789260864258\n",
      "[5 2 0 7 4 1 3 6]\n",
      "0.0\n"
     ]
    }
   ],
   "source": [
    "#RCH RESTARTS=5\n",
    "start = time.time()\n",
    "best_state, best_fitness,fitness_curve_pro2 = mlrose_hiive.random_hill_climb(problem_fit, max_attempts=100, max_iters=100, restarts=5, init_state=None, curve=True, random_state=1)\n",
    "end = time.time()\n",
    "print(end-start)\n",
    "print(best_state)\n",
    "print(best_fitness)"
   ]
  },
  {
   "cell_type": "code",
   "execution_count": 14,
   "id": "c973edfa",
   "metadata": {},
   "outputs": [],
   "source": [
    "curve_RHC = fitness_curve_pro2\n",
    "fitness_RHC = best_fitness\n",
    "time_RHC = end -start"
   ]
  },
  {
   "cell_type": "code",
   "execution_count": 15,
   "id": "1fcac808",
   "metadata": {},
   "outputs": [
    {
     "data": {
      "text/plain": [
       "<matplotlib.legend.Legend at 0x2915d020a60>"
      ]
     },
     "execution_count": 15,
     "metadata": {},
     "output_type": "execute_result"
    },
    {
     "data": {
      "image/png": "[encoded data removed]",
      "text/plain": [
       "<Figure size 432x288 with 1 Axes>"
      ]
     },
     "metadata": {
      "needs_background": "light"
     },
     "output_type": "display_data"
    }
   ],
   "source": [
    "# Note that even in the OO-style, we use `.pyplot.figure` to create the figure.\n",
    "fig, ax = plt.subplots()  # Create a figure and an axes.\n",
    "ax.plot(range(0,len(list(fitness_curve))), -fitness_curve[:,0], label='restarts = 0')  # Plot some data on the axes.\n",
    "ax.plot(range(0,len(list(fitness_curve_pro2))), -fitness_curve_pro2[:,0], label='restarts = 5')  # ... and some more.\n",
    "ax.plot(range(0,len(list(fitness_curve_pro))), -fitness_curve_pro[:,0], label='restarts = 10')  # Plot more data on the axes...\n",
    "ax.set_xlabel('Iterations')  # Add an x-label to the axes.\n",
    "ax.set_ylabel('Fitness')  # Add a y-label to the axes.\n",
    "ax.set_title(\"Random Hill Climbing Iteration vs Fitness\")  # Add a title to the axes.\n",
    "ax.legend()  # Add a legend."
   ]
  },
  {
   "cell_type": "code",
   "execution_count": 51,
   "id": "7c2a75aa",
   "metadata": {},
   "outputs": [
    {
     "name": "stdout",
     "output_type": "stream",
     "text": [
      "0.09098243713378906\n",
      "[4 2 7 3 6 0 5 1]\n",
      "0.0\n"
     ]
    }
   ],
   "source": [
    "#SA schedule = geomdecay\n",
    "start = time.time()\n",
    "schedule = mlrose_hiive.GeomDecay(init_temp=10, decay=0.95, min_temp=1)\n",
    "best_state, best_fitness, fitness_curve = mlrose_hiive.simulated_annealing(problem_fit, max_attempts=100, max_iters=inf, init_state=None, curve=True, random_state=1)\n",
    "end = time.time()\n",
    "print(end-start)\n",
    "print(best_state)\n",
    "print(best_fitness)"
   ]
  },
  {
   "cell_type": "code",
   "execution_count": 47,
   "id": "d0d8e7dc",
   "metadata": {},
   "outputs": [],
   "source": [
    "curve_SA = fitness_curve\n",
    "fitness_SA = best_fitness\n",
    "time_SA = end-start"
   ]
  },
  {
   "cell_type": "code",
   "execution_count": 37,
   "id": "2075da6e",
   "metadata": {},
   "outputs": [
    {
     "name": "stdout",
     "output_type": "stream",
     "text": [
      "0.09494304656982422\n",
      "[3 0 4 7 5 2 6 1]\n",
      "0.0\n"
     ]
    }
   ],
   "source": [
    "#SA schedule = geomdecay decay 0.75\n",
    "start = time.time()\n",
    "schedule = mlrose_hiive.GeomDecay(init_temp=10, decay=0.75, min_temp=1)\n",
    "best_state, best_fitness, fitness_curve_pro = mlrose_hiive.simulated_annealing(problem_fit, max_attempts=100, max_iters=inf, init_state=None, curve=True, random_state=2)\n",
    "end = time.time()\n",
    "print(end-start)\n",
    "print(best_state)\n",
    "print(best_fitness)"
   ]
  },
  {
   "cell_type": "code",
   "execution_count": 38,
   "id": "ff3d4812",
   "metadata": {},
   "outputs": [
    {
     "name": "stdout",
     "output_type": "stream",
     "text": [
      "0.19385671615600586\n",
      "[5 2 6 1 3 7 0 4]\n",
      "0.0\n"
     ]
    }
   ],
   "source": [
    "#SA schedule = geomdecay decay 0.55\n",
    "start = time.time()\n",
    "schedule = mlrose_hiive.GeomDecay(init_temp=10, decay=0.55, min_temp=1)\n",
    "best_state, best_fitness, fitness_curve_pro2 = mlrose_hiive.simulated_annealing(problem_fit, max_attempts=100, max_iters=inf, init_state=None, curve=True, random_state=3)\n",
    "end = time.time()\n",
    "print(end-start)\n",
    "print(best_state)\n",
    "print(best_fitness)"
   ]
  },
  {
   "cell_type": "code",
   "execution_count": 39,
   "id": "bc44fcc8",
   "metadata": {},
   "outputs": [
    {
     "name": "stdout",
     "output_type": "stream",
     "text": [
      "0.13657498359680176\n",
      "[1 7 5 0 2 4 6 3]\n",
      "0.0\n"
     ]
    }
   ],
   "source": [
    "#SA schedule = geomdecay decay 0.35\n",
    "start = time.time()\n",
    "schedule = mlrose_hiive.GeomDecay(init_temp=10, decay=0.35, min_temp=1)\n",
    "best_state, best_fitness, fitness_curve_pro3 = mlrose_hiive.simulated_annealing(problem_fit, max_attempts=100, max_iters=inf, init_state=None, curve=True, random_state=4)\n",
    "end = time.time()\n",
    "print(end-start)\n",
    "print(best_state)\n",
    "print(best_fitness)"
   ]
  },
  {
   "cell_type": "code",
   "execution_count": 40,
   "id": "b0221ac6",
   "metadata": {},
   "outputs": [
    {
     "name": "stdout",
     "output_type": "stream",
     "text": [
      "0.12981081008911133\n",
      "[2 5 7 1 3 0 6 4]\n",
      "0.0\n"
     ]
    }
   ],
   "source": [
    "#SA schedule = geomdecay decay 0.15\n",
    "start = time.time()\n",
    "schedule = mlrose_hiive.GeomDecay(init_temp=10, decay=0.15, min_temp=1)\n",
    "best_state, best_fitness, fitness_curve_pro4 = mlrose_hiive.simulated_annealing(problem_fit, max_attempts=100, max_iters=inf, init_state=None, curve=True, random_state=5)\n",
    "end = time.time()\n",
    "print(end-start)\n",
    "print(best_state)\n",
    "print(best_fitness)"
   ]
  },
  {
   "cell_type": "code",
   "execution_count": 46,
   "id": "c8652f9a",
   "metadata": {},
   "outputs": [
    {
     "data": {
      "text/plain": [
       "<matplotlib.legend.Legend at 0x2915e5aba90>"
      ]
     },
     "execution_count": 46,
     "metadata": {},
     "output_type": "execute_result"
    },
    {
     "data": {
      "image/png": "[encoded data removed]",
      "text/plain": [
       "<Figure size 432x288 with 1 Axes>"
      ]
     },
     "metadata": {
      "needs_background": "light"
     },
     "output_type": "display_data"
    }
   ],
   "source": [
    "# Note that even in the OO-style, we use `.pyplot.figure` to create the figure.\n",
    "fig, ax = plt.subplots()  # Create a figure and an axes.\n",
    "ax.plot(range(0,len(list(fitness_curve))), -fitness_curve[:,0], label='decay = 0.95')  # Plot some data on the axes.\n",
    "ax.plot(range(0,len(list(fitness_curve_pro))), -fitness_curve_pro[:,0], label='decay = 0.75')  # Plot more data on the axes...\n",
    "ax.plot(range(0,len(list(fitness_curve_pro2))), -fitness_curve_pro2[:,0], label='decay = 0.55')  # ... and some more.\n",
    "ax.plot(range(0,len(list(fitness_curve_pro3))), -fitness_curve_pro3[:,0], label='decay = 0.35')  # ... and some more.\n",
    "ax.plot(range(0,len(list(fitness_curve_pro4))), -fitness_curve_pro4[:,0], label='decay = 0.15')  # ... and some more.\n",
    "ax.set_xlabel('Iterations')  # Add an x-label to the axes.\n",
    "ax.set_ylabel('Fitness')  # Add a y-label to the axes.\n",
    "ax.set_title(\"Simulated Annealing Iteration vs Fitness with Different decay\")  # Add a title to the axes.\n",
    "ax.legend()  # Add a legend."
   ]
  },
  {
   "cell_type": "code",
   "execution_count": 23,
   "id": "e834013c",
   "metadata": {},
   "outputs": [
    {
     "name": "stdout",
     "output_type": "stream",
     "text": [
      "7.524613857269287\n",
      "[0 4 6 1 3 1 7 2]\n",
      "1.0\n"
     ]
    }
   ],
   "source": [
    "#MIMIC POPSIZE = 200\n",
    "start = time.time()\n",
    "best_state, best_fitness, fitness_curve = mlrose_hiive.mimic(problem_fit, pop_size=200, keep_pct=0.2, max_attempts=100, max_iters=inf, curve=True, random_state=2)\n",
    "end = time.time()\n",
    "print(end-start)\n",
    "print(best_state)\n",
    "print(best_fitness)"
   ]
  },
  {
   "cell_type": "code",
   "execution_count": 24,
   "id": "6567af6f",
   "metadata": {},
   "outputs": [
    {
     "name": "stdout",
     "output_type": "stream",
     "text": [
      "7.13983154296875\n",
      "[5 2 5 1 4 7 3 6]\n",
      "1.0\n"
     ]
    }
   ],
   "source": [
    "#MIMIC POPSIZE = 250\n",
    "start = time.time()\n",
    "best_state, best_fitness, fitness_curve_pro = mlrose_hiive.mimic(problem_fit, pop_size=250, keep_pct=0.2, max_attempts=100, max_iters=inf, curve=True, random_state=2)\n",
    "end = time.time()\n",
    "print(end-start)\n",
    "print(best_state)\n",
    "print(best_fitness)"
   ]
  },
  {
   "cell_type": "code",
   "execution_count": 25,
   "id": "d504a0e5",
   "metadata": {},
   "outputs": [],
   "source": [
    "curve_MIMIC = fitness_curve_pro\n",
    "fitness_MIMIC = best_fitness\n",
    "time_MIMIC = end-start"
   ]
  },
  {
   "cell_type": "code",
   "execution_count": 26,
   "id": "092365bf",
   "metadata": {},
   "outputs": [
    {
     "name": "stdout",
     "output_type": "stream",
     "text": [
      "4.594675302505493\n",
      "[3 7 4 1 1 5 0 6]\n",
      "2.0\n"
     ]
    }
   ],
   "source": [
    "#MIMIC POPSIZE = 150\n",
    "start = time.time()\n",
    "best_state, best_fitness, fitness_curve_pro2 = mlrose_hiive.mimic(problem_fit, pop_size=150, keep_pct=0.2, max_attempts=100, max_iters=inf, curve=True, random_state=2)\n",
    "end = time.time()\n",
    "print(end-start)\n",
    "print(best_state)\n",
    "print(best_fitness)"
   ]
  },
  {
   "cell_type": "code",
   "execution_count": 27,
   "id": "9e5defaf",
   "metadata": {},
   "outputs": [
    {
     "data": {
      "text/plain": [
       "<matplotlib.legend.Legend at 0x2915d164a30>"
      ]
     },
     "execution_count": 27,
     "metadata": {},
     "output_type": "execute_result"
    },
    {
     "data": {
      "image/png": "[encoded data removed]",
      "text/plain": [
       "<Figure size 432x288 with 1 Axes>"
      ]
     },
     "metadata": {
      "needs_background": "light"
     },
     "output_type": "display_data"
    }
   ],
   "source": [
    "# Note that even in the OO-style, we use `.pyplot.figure` to create the figure.\n",
    "fig, ax = plt.subplots()  # Create a figure and an axes.\n",
    "ax.plot(range(0,len(list(fitness_curve_pro2))), -fitness_curve_pro2[:,0], label='pop_size = 150')  # ... and some more.\n",
    "ax.plot(range(0,len(list(fitness_curve))), -fitness_curve[:,0], label='pop_size = 200')  # Plot some data on the axes.\n",
    "ax.plot(range(0,len(list(fitness_curve_pro))), -fitness_curve_pro[:,0], label='pop_size = 250')  # Plot more data on the axes...\n",
    "ax.set_xlabel('Iterations')  # Add an x-label to the axes.\n",
    "ax.set_ylabel('Fitness')  # Add a y-label to the axes.\n",
    "ax.set_title(\"MIMIC Iteration vs Fitness\")  # Add a title to the axes.\n",
    "ax.legend()  # Add a legend."
   ]
  },
  {
   "cell_type": "code",
   "execution_count": 48,
   "id": "483574a2",
   "metadata": {},
   "outputs": [
    {
     "data": {
      "text/plain": [
       "<matplotlib.legend.Legend at 0x2915e674fa0>"
      ]
     },
     "execution_count": 48,
     "metadata": {},
     "output_type": "execute_result"
    },
    {
     "data": {
      "image/png": "[encoded data removed]",
      "text/plain": [
       "<Figure size 432x288 with 1 Axes>"
      ]
     },
     "metadata": {
      "needs_background": "light"
     },
     "output_type": "display_data"
    }
   ],
   "source": [
    "# Note that even in the OO-style, we use `.pyplot.figure` to create the figure.\n",
    "fig, ax = plt.subplots()  # Create a figure and an axes.\n",
    "ax.plot(range(0,len(list(curve_GA))), -curve_GA[:,0], label='GA')  # ... and some more.\n",
    "ax.plot(range(0,len(list(curve_RHC))), -curve_RHC[:,0], label='RHC')  # Plot some data on the axes.\n",
    "ax.plot(range(0,len(list(curve_SA))), -curve_SA[:,0], label='SA')  # Plot more data on the axes...\n",
    "ax.plot(range(0,len(list(curve_MIMIC))), -curve_MIMIC[:,0], label='MIMIC')  # Plot more data on the axes...\n",
    "ax.set_xlabel('Iterations')  # Add an x-label to the axes.\n",
    "ax.set_ylabel('Fitness')  # Add a y-label to the axes.\n",
    "ax.set_title(\"Iteration vs Fitness in 8-Queens Problem\")  # Add a title to the axes.\n",
    "ax.legend()  # Add a legend."
   ]
  },
  {
   "cell_type": "code",
   "execution_count": 33,
   "id": "4c6400d6",
   "metadata": {},
   "outputs": [
    {
     "data": {
      "image/png": "[encoded data removed]",
      "text/plain": [
       "<Figure size 432x360 with 1 Axes>"
      ]
     },
     "metadata": {
      "needs_background": "light"
     },
     "output_type": "display_data"
    }
   ],
   "source": [
    "fig = plt.figure(figsize = (6, 5))\n",
    "names = ['GA','RHC','SA','MIMIC'] \n",
    "runtime_list = [fitness_GA,fitness_RHC,fitness_SA,fitness_MIMIC]\n",
    "# creating the bar plot\n",
    "plt.bar(names,runtime_list, width = 0.2)\n",
    "plt.ylabel(\"Fitness\")\n",
    "plt.title(\"Best Fitness in 8-Queens Problem\")\n",
    "plt.show()"
   ]
  },
  {
   "cell_type": "code",
   "execution_count": 34,
   "id": "60459d91",
   "metadata": {},
   "outputs": [
    {
     "data": {
      "image/png": "[encoded data removed]",
      "text/plain": [
       "<Figure size 432x360 with 1 Axes>"
      ]
     },
     "metadata": {
      "needs_background": "light"
     },
     "output_type": "display_data"
    }
   ],
   "source": [
    "fig = plt.figure(figsize = (6, 5))\n",
    "names = ['GA','RHC','SA','MIMIC'] \n",
    "runtime_list = [time_GA,time_RHC,time_SA,time_MIMIC]\n",
    "# creating the bar plot\n",
    "plt.bar(names,runtime_list, width = 0.2)\n",
    "plt.ylabel(\"Time\")\n",
    "plt.title(\"Running Time in 8-Queens Problem\")\n",
    "plt.show()"
   ]
  },
  {
   "cell_type": "code",
   "execution_count": null,
   "id": "4bb7bb9f",
   "metadata": {},
   "outputs": [],
   "source": []
  }
 ],
 "metadata": {
  "kernelspec": {
   "display_name": "Python [conda env:tf]",
   "language": "python",
   "name": "conda-env-tf-py"
  },
  "language_info": {
   "codemirror_mode": {
    "name": "ipython",
    "version": 3
   },
   "file_extension": ".py",
   "mimetype": "text/x-python",
   "name": "python",
   "nbconvert_exporter": "python",
   "pygments_lexer": "ipython3",
   "version": "3.9.7"
  }
 },
 "nbformat": 4,
 "nbformat_minor": 5
}
