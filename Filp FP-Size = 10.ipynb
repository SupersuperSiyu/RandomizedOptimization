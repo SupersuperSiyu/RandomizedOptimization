{
 "cells": [
  {
   "cell_type": "code",
   "execution_count": 12,
   "id": "ad09246b",
   "metadata": {},
   "outputs": [],
   "source": [
    "import mlrose_hiive\n",
    "import numpy as np\n",
    "\n",
    "from mlrose_hiive import FlipFlopGenerator\n",
    "from mlrose_hiive import SARunner, GARunner, NNGSRunner\n",
    "from matplotlib import pyplot as plt\n",
    "from numpy import inf\n",
    "import time"
   ]
  },
  {
   "cell_type": "code",
   "execution_count": 13,
   "id": "732ea90f",
   "metadata": {},
   "outputs": [],
   "source": [
    "# Generate a new TSP problem using a fixed seed.\n",
    "problem_fit = FlipFlopGenerator().generate(seed=123456, size=10)"
   ]
  },
  {
   "cell_type": "code",
   "execution_count": 24,
   "id": "e3055bdf",
   "metadata": {},
   "outputs": [
    {
     "name": "stdout",
     "output_type": "stream",
     "text": [
      "0.24041199684143066\n",
      "[0. 1. 0. 1. 0. 1. 0. 1. 0. 1.]\n",
      "9.0\n"
     ]
    }
   ],
   "source": [
    "# Solve problem using the genetic algorithm\n",
    "#GA POPSIZE = 200\n",
    "start = time.time()\n",
    "best_state, best_fitness,fitness_curve = mlrose_hiive.genetic_alg(problem_fit, max_attempts=100,random_state = 3,curve=True,max_iters=50,pop_size=200)\n",
    "end = time.time()\n",
    "print(end-start)\n",
    "print(best_state)\n",
    "print(best_fitness)"
   ]
  },
  {
   "cell_type": "code",
   "execution_count": 14,
   "id": "c66f756d",
   "metadata": {},
   "outputs": [
    {
     "name": "stdout",
     "output_type": "stream",
     "text": [
      "0.5357108116149902\n",
      "[1. 0. 1. 0. 1. 0. 1. 0. 1. 0.]\n",
      "9.0\n"
     ]
    }
   ],
   "source": [
    "#GA POPSIZE = 250\n",
    "start = time.time()\n",
    "best_state, best_fitness,fitness_curve_pro = mlrose_hiive.genetic_alg(problem_fit, max_attempts=100,random_state = 2,curve=True,max_iters=50,pop_size=250)\n",
    "end = time.time()\n",
    "print(end-start)\n",
    "print(best_state)\n",
    "print(best_fitness)"
   ]
  },
  {
   "cell_type": "code",
   "execution_count": 15,
   "id": "b2345a21",
   "metadata": {},
   "outputs": [],
   "source": [
    "curve_GA = fitness_curve_pro\n",
    "fitness_GA = best_fitness"
   ]
  },
  {
   "cell_type": "code",
   "execution_count": 26,
   "id": "f36514e2",
   "metadata": {},
   "outputs": [
    {
     "name": "stdout",
     "output_type": "stream",
     "text": [
      "0.06122422218322754\n",
      "[1. 0. 1. 0. 1. 0. 1. 0. 1. 0.]\n",
      "9.0\n"
     ]
    }
   ],
   "source": [
    "#GA POPSIZE = 150\n",
    "start = time.time()\n",
    "best_state, best_fitness,fitness_curve_pro2 = mlrose_hiive.genetic_alg(problem_fit, max_attempts=100,random_state = 1,curve=True,max_iters=50,pop_size=50)\n",
    "end = time.time()\n",
    "print(end-start)\n",
    "print(best_state)\n",
    "print(best_fitness)"
   ]
  },
  {
   "cell_type": "code",
   "execution_count": 30,
   "id": "91467328",
   "metadata": {},
   "outputs": [
    {
     "data": {
      "text/plain": [
       "<matplotlib.legend.Legend at 0x13fd538e3d0>"
      ]
     },
     "execution_count": 30,
     "metadata": {},
     "output_type": "execute_result"
    },
    {
     "data": {
      "image/png": "[encoded data removed]",
      "text/plain": [
       "<Figure size 432x288 with 1 Axes>"
      ]
     },
     "metadata": {
      "needs_background": "light"
     },
     "output_type": "display_data"
    }
   ],
   "source": [
    "# Note that even in the OO-style, we use `.pyplot.figure` to create the figure.\n",
    "fig, ax = plt.subplots()  # Create a figure and an axes.\n",
    "ax.plot(range(0,len(list(fitness_curve_pro2))), fitness_curve_pro2[:,0], label='pop_size = 150')  # ... and some more.\n",
    "ax.plot(range(0,len(list(fitness_curve))), fitness_curve[:,0], label='pop_size = 200')  # Plot some data on the axes.\n",
    "ax.plot(range(0,len(list(fitness_curve_pro))), fitness_curve_pro[:,0], label='pop_size = 250')  # Plot more data on the axes...\n",
    "ax.set_xlabel('Iterations')  # Add an x-label to the axes.\n",
    "ax.set_ylabel('Fitness')  # Add a y-label to the axes.\n",
    "ax.set_title(\"Genetic Algorithm Iteration vs Fitness\")  # Add a title to the axes.\n",
    "ax.legend()  # Add a legend."
   ]
  },
  {
   "cell_type": "code",
   "execution_count": 17,
   "id": "62e6312b",
   "metadata": {},
   "outputs": [
    {
     "name": "stdout",
     "output_type": "stream",
     "text": [
      "0.002989530563354492\n",
      "[1 0 1 1 0 1 0 1 1 0]\n",
      "7.0\n"
     ]
    }
   ],
   "source": [
    "#RCH RESTARTS=0\n",
    "start = time.time()\n",
    "best_state, best_fitness,fitness_curve = mlrose_hiive.random_hill_climb(problem_fit, max_attempts=100, max_iters=100, restarts=0, init_state=None, curve=True, random_state=3)\n",
    "end = time.time()\n",
    "print(end-start)\n",
    "print(best_state)\n",
    "print(best_fitness)"
   ]
  },
  {
   "cell_type": "code",
   "execution_count": 16,
   "id": "89090a4c",
   "metadata": {},
   "outputs": [
    {
     "name": "stdout",
     "output_type": "stream",
     "text": [
      "0.008111715316772461\n",
      "[0 1 0 1 0 1 0 1 0 1]\n",
      "9.0\n"
     ]
    }
   ],
   "source": [
    "#RCH RESTARTS=10\n",
    "start = time.time()\n",
    "best_state, best_fitness,fitness_curve_pro = mlrose_hiive.random_hill_climb(problem_fit, max_attempts=100, max_iters=100, restarts=10, init_state=None, curve=True, random_state=2)\n",
    "end = time.time()\n",
    "print(end-start)\n",
    "print(best_state)\n",
    "print(best_fitness)"
   ]
  },
  {
   "cell_type": "code",
   "execution_count": 17,
   "id": "c973edfa",
   "metadata": {},
   "outputs": [],
   "source": [
    "curve_RHC = fitness_curve_pro\n",
    "fitness_RHC = best_fitness"
   ]
  },
  {
   "cell_type": "code",
   "execution_count": 19,
   "id": "77c277c8",
   "metadata": {},
   "outputs": [
    {
     "name": "stdout",
     "output_type": "stream",
     "text": [
      "0.0\n",
      "[0 1 0 1 0 1 0 1 0 1]\n",
      "9.0\n"
     ]
    }
   ],
   "source": [
    "#RCH RESTARTS=5\n",
    "start = time.time()\n",
    "best_state, best_fitness,fitness_curve_pro2 = mlrose_hiive.random_hill_climb(problem_fit, max_attempts=100, max_iters=100, restarts=5, init_state=None, curve=True, random_state=1)\n",
    "end = time.time()\n",
    "print(end-start)\n",
    "print(best_state)\n",
    "print(best_fitness)"
   ]
  },
  {
   "cell_type": "code",
   "execution_count": 20,
   "id": "1fcac808",
   "metadata": {},
   "outputs": [
    {
     "data": {
      "text/plain": [
       "<matplotlib.legend.Legend at 0x13fd4ff3460>"
      ]
     },
     "execution_count": 20,
     "metadata": {},
     "output_type": "execute_result"
    },
    {
     "data": {
      "image/png": "[encoded data removed]",
      "text/plain": [
       "<Figure size 432x288 with 1 Axes>"
      ]
     },
     "metadata": {
      "needs_background": "light"
     },
     "output_type": "display_data"
    }
   ],
   "source": [
    "# Note that even in the OO-style, we use `.pyplot.figure` to create the figure.\n",
    "fig, ax = plt.subplots()  # Create a figure and an axes.\n",
    "ax.plot(range(0,len(list(fitness_curve))), fitness_curve[:,0], label='restarts = 0')  # Plot some data on the axes.\n",
    "ax.plot(range(0,len(list(fitness_curve_pro2))), fitness_curve_pro2[:,0], label='restarts = 5')  # ... and some more.\n",
    "ax.plot(range(0,len(list(fitness_curve_pro))), fitness_curve_pro[:,0], label='restarts = 10')  # Plot more data on the axes...\n",
    "ax.set_xlabel('Iterations')  # Add an x-label to the axes.\n",
    "ax.set_ylabel('Fitness')  # Add a y-label to the axes.\n",
    "ax.set_title(\"Random Hill Climbing Iteration vs Fitness\")  # Add a title to the axes.\n",
    "ax.legend()  # Add a legend."
   ]
  },
  {
   "cell_type": "code",
   "execution_count": 33,
   "id": "7c2a75aa",
   "metadata": {},
   "outputs": [
    {
     "name": "stdout",
     "output_type": "stream",
     "text": [
      "0.00800180435180664\n",
      "[1 0 1 0 1 0 1 0 1 0]\n",
      "9.0\n"
     ]
    }
   ],
   "source": [
    "#SA schedule = geomdecay\n",
    "start = time.time()\n",
    "schedule = mlrose_hiive.GeomDecay(init_temp=10, decay=0.95, min_temp=1)\n",
    "best_state, best_fitness, fitness_curve = mlrose_hiive.simulated_annealing(problem_fit, max_attempts=100, max_iters=inf, init_state=None, curve=True, random_state=1)\n",
    "end = time.time()\n",
    "print(end-start)\n",
    "print(best_state)\n",
    "print(best_fitness)"
   ]
  },
  {
   "cell_type": "code",
   "execution_count": 34,
   "id": "97a5d6ea",
   "metadata": {},
   "outputs": [
    {
     "name": "stdout",
     "output_type": "stream",
     "text": [
      "0.00999140739440918\n",
      "[1 0 1 0 1 0 1 0 1 0]\n",
      "9.0\n"
     ]
    }
   ],
   "source": [
    "#SA schedule = geomdecay decay 0.75\n",
    "start = time.time()\n",
    "schedule = mlrose_hiive.GeomDecay(init_temp=10, decay=0.75, min_temp=1)\n",
    "best_state, best_fitness, fitness_curve_pro = mlrose_hiive.simulated_annealing(problem_fit, max_attempts=100, max_iters=inf, init_state=None, curve=True, random_state=2)\n",
    "end = time.time()\n",
    "print(end-start)\n",
    "print(best_state)\n",
    "print(best_fitness)"
   ]
  },
  {
   "cell_type": "code",
   "execution_count": 18,
   "id": "c07c4418",
   "metadata": {},
   "outputs": [
    {
     "name": "stdout",
     "output_type": "stream",
     "text": [
      "0.016000986099243164\n",
      "[0 1 0 1 0 1 0 1 0 1]\n",
      "9.0\n"
     ]
    }
   ],
   "source": [
    "#SA schedule = geomdecay decay 0.55\n",
    "start = time.time()\n",
    "schedule = mlrose_hiive.GeomDecay(init_temp=10, decay=0.55, min_temp=1)\n",
    "best_state, best_fitness, fitness_curve_pro2 = mlrose_hiive.simulated_annealing(problem_fit, max_attempts=100, max_iters=inf, init_state=None, curve=True, random_state=3)\n",
    "end = time.time()\n",
    "print(end-start)\n",
    "print(best_state)\n",
    "print(best_fitness)"
   ]
  },
  {
   "cell_type": "code",
   "execution_count": 19,
   "id": "cbf1ab68",
   "metadata": {},
   "outputs": [],
   "source": [
    "curve_SA = fitness_curve_pro2\n",
    "fitness_SA = best_fitness"
   ]
  },
  {
   "cell_type": "code",
   "execution_count": 36,
   "id": "7724f5d0",
   "metadata": {},
   "outputs": [
    {
     "name": "stdout",
     "output_type": "stream",
     "text": [
      "0.016002655029296875\n",
      "[0 1 0 1 0 1 0 1 0 1]\n",
      "9.0\n"
     ]
    }
   ],
   "source": [
    "#SA schedule = geomdecay decay 0.35\n",
    "start = time.time()\n",
    "schedule = mlrose_hiive.GeomDecay(init_temp=10, decay=0.35, min_temp=1)\n",
    "best_state, best_fitness, fitness_curve_pro3 = mlrose_hiive.simulated_annealing(problem_fit, max_attempts=100, max_iters=inf, init_state=None, curve=True, random_state=6)\n",
    "end = time.time()\n",
    "print(end-start)\n",
    "print(best_state)\n",
    "print(best_fitness)"
   ]
  },
  {
   "cell_type": "code",
   "execution_count": 37,
   "id": "3d8a7a4f",
   "metadata": {},
   "outputs": [
    {
     "name": "stdout",
     "output_type": "stream",
     "text": [
      "0.012189865112304688\n",
      "[1 0 1 0 1 0 1 0 1 0]\n",
      "9.0\n"
     ]
    }
   ],
   "source": [
    "#SA schedule = geomdecay decay 0.15\n",
    "start = time.time()\n",
    "schedule = mlrose_hiive.GeomDecay(init_temp=10, decay=0.15, min_temp=1)\n",
    "best_state, best_fitness, fitness_curve_pro4 = mlrose_hiive.simulated_annealing(problem_fit, max_attempts=100, max_iters=inf, init_state=None, curve=True, random_state=5)\n",
    "end = time.time()\n",
    "print(end-start)\n",
    "print(best_state)\n",
    "print(best_fitness)"
   ]
  },
  {
   "cell_type": "code",
   "execution_count": 38,
   "id": "ca9b751a",
   "metadata": {},
   "outputs": [
    {
     "data": {
      "text/plain": [
       "<matplotlib.legend.Legend at 0x13fd5407040>"
      ]
     },
     "execution_count": 38,
     "metadata": {},
     "output_type": "execute_result"
    },
    {
     "data": {
      "image/png": "[encoded data removed]",
      "text/plain": [
       "<Figure size 432x288 with 1 Axes>"
      ]
     },
     "metadata": {
      "needs_background": "light"
     },
     "output_type": "display_data"
    }
   ],
   "source": [
    "# Note that even in the OO-style, we use `.pyplot.figure` to create the figure.\n",
    "fig, ax = plt.subplots()  # Create a figure and an axes.\n",
    "ax.plot(range(0,len(list(fitness_curve))), fitness_curve[:,0], label='decay = 0.95')  # Plot some data on the axes.\n",
    "ax.plot(range(0,len(list(fitness_curve_pro))), fitness_curve_pro[:,0], label='decay = 0.75')  # Plot more data on the axes...\n",
    "ax.plot(range(0,len(list(fitness_curve_pro2))), fitness_curve_pro2[:,0], label='decay = 0.55')  # ... and some more.\n",
    "ax.plot(range(0,len(list(fitness_curve_pro3))), fitness_curve_pro3[:,0], label='decay = 0.35')  # ... and some more.\n",
    "ax.plot(range(0,len(list(fitness_curve_pro4))), fitness_curve_pro4[:,0], label='decay = 0.15')  # ... and some more.\n",
    "ax.set_xlabel('Iterations')  # Add an x-label to the axes.\n",
    "ax.set_ylabel('Fitness')  # Add a y-label to the axes.\n",
    "ax.set_title(\"Simulated Annealing Iteration vs Fitness with Different Initial Temprature\")  # Add a title to the axes.\n",
    "ax.legend()  # Add a legend."
   ]
  },
  {
   "cell_type": "code",
   "execution_count": 41,
   "id": "e834013c",
   "metadata": {},
   "outputs": [
    {
     "name": "stdout",
     "output_type": "stream",
     "text": [
      "2.375718116760254\n",
      "[0 1 0 1 0 1 0 1 0 1]\n",
      "9.0\n"
     ]
    }
   ],
   "source": [
    "#MIMIC POPSIZE = 200\n",
    "start = time.time()\n",
    "best_state, best_fitness, fitness_curve = mlrose_hiive.mimic(problem_fit, pop_size=200, keep_pct=0.2, max_attempts=100, max_iters=inf, curve=True, random_state=2)\n",
    "end = time.time()\n",
    "print(end-start)\n",
    "print(best_state)\n",
    "print(best_fitness)"
   ]
  },
  {
   "cell_type": "code",
   "execution_count": 20,
   "id": "6567af6f",
   "metadata": {},
   "outputs": [
    {
     "name": "stdout",
     "output_type": "stream",
     "text": [
      "4.442911863327026\n",
      "[1 0 1 0 1 0 1 0 1 0]\n",
      "9.0\n"
     ]
    }
   ],
   "source": [
    "#MIMIC POPSIZE = 250\n",
    "start = time.time()\n",
    "best_state, best_fitness, fitness_curve_pro = mlrose_hiive.mimic(problem_fit, pop_size=250, keep_pct=0.2, max_attempts=100, max_iters=inf, curve=True, random_state=2)\n",
    "end = time.time()\n",
    "print(end-start)\n",
    "print(best_state)\n",
    "print(best_fitness)"
   ]
  },
  {
   "cell_type": "code",
   "execution_count": 21,
   "id": "d504a0e5",
   "metadata": {},
   "outputs": [],
   "source": [
    "curve_MIMIC = fitness_curve_pro\n",
    "fitness_MIMIC = best_fitness"
   ]
  },
  {
   "cell_type": "code",
   "execution_count": 43,
   "id": "092365bf",
   "metadata": {},
   "outputs": [
    {
     "name": "stdout",
     "output_type": "stream",
     "text": [
      "2.374295473098755\n",
      "[1 0 1 0 1 0 1 0 1 0]\n",
      "9.0\n"
     ]
    }
   ],
   "source": [
    "#MIMIC POPSIZE = 150\n",
    "start = time.time()\n",
    "best_state, best_fitness, fitness_curve_pro2 = mlrose_hiive.mimic(problem_fit, pop_size=150, keep_pct=0.2, max_attempts=100, max_iters=inf, curve=True, random_state=2)\n",
    "end = time.time()\n",
    "print(end-start)\n",
    "print(best_state)\n",
    "print(best_fitness)"
   ]
  },
  {
   "cell_type": "code",
   "execution_count": 44,
   "id": "9e5defaf",
   "metadata": {},
   "outputs": [
    {
     "data": {
      "text/plain": [
       "<matplotlib.legend.Legend at 0x13fd53255e0>"
      ]
     },
     "execution_count": 44,
     "metadata": {},
     "output_type": "execute_result"
    },
    {
     "data": {
      "image/png": "[encoded data removed]",
      "text/plain": [
       "<Figure size 432x288 with 1 Axes>"
      ]
     },
     "metadata": {
      "needs_background": "light"
     },
     "output_type": "display_data"
    }
   ],
   "source": [
    "# Note that even in the OO-style, we use `.pyplot.figure` to create the figure.\n",
    "fig, ax = plt.subplots()  # Create a figure and an axes.\n",
    "ax.plot(range(0,len(list(fitness_curve_pro2))), fitness_curve_pro2[:,0], label='pop_size = 150')  # ... and some more.\n",
    "ax.plot(range(0,len(list(fitness_curve))), fitness_curve[:,0], label='pop_size = 200')  # Plot some data on the axes.\n",
    "ax.plot(range(0,len(list(fitness_curve_pro))), fitness_curve_pro[:,0], label='pop_size = 250')  # Plot more data on the axes...\n",
    "ax.set_xlabel('Iterations')  # Add an x-label to the axes.\n",
    "ax.set_ylabel('Fitness')  # Add a y-label to the axes.\n",
    "ax.set_title(\"MIMIC Iteration vs Fitness\")  # Add a title to the axes.\n",
    "ax.legend()  # Add a legend."
   ]
  },
  {
   "cell_type": "code",
   "execution_count": 27,
   "id": "51a98896",
   "metadata": {},
   "outputs": [
    {
     "data": {
      "text/plain": [
       "<matplotlib.legend.Legend at 0x24b2c4e4cd0>"
      ]
     },
     "execution_count": 27,
     "metadata": {},
     "output_type": "execute_result"
    },
    {
     "data": {
      "image/png": "[encoded data removed]",
      "text/plain": [
       "<Figure size 432x288 with 1 Axes>"
      ]
     },
     "metadata": {
      "needs_background": "light"
     },
     "output_type": "display_data"
    }
   ],
   "source": [
    "# Note that even in the OO-style, we use `.pyplot.figure` to create the figure.\n",
    "fig, ax = plt.subplots()  # Create a figure and an axes.\n",
    "ax.plot(range(0,len(list(curve_GA))), curve_GA[:,0], label='GA')  # ... and some more.\n",
    "ax.plot(range(0,len(list(curve_RHC))), curve_RHC[:,0], label='RHC')  # Plot some data on the axes.\n",
    "ax.plot(range(0,len(list(curve_SA))), curve_SA[:,0], label='SA')  # Plot more data on the axes...\n",
    "ax.plot(range(0,len(list(curve_MIMIC))), curve_MIMIC[:,0], label='MIMIC')  # Plot more data on the axes...\n",
    "ax.set_xlabel('Iterations')  # Add an x-label to the axes.\n",
    "ax.set_ylabel('Fitness')  # Add a y-label to the axes.\n",
    "ax.set_title(\"Iteration vs Fitness in Flip Flop Problem (size=10)\")  # Add a title to the axes.\n",
    "ax.legend()  # Add a legend."
   ]
  },
  {
   "cell_type": "code",
   "execution_count": null,
   "id": "6b664fc3",
   "metadata": {},
   "outputs": [],
   "source": []
  }
 ],
 "metadata": {
  "kernelspec": {
   "display_name": "Python [conda env:tf]",
   "language": "python",
   "name": "conda-env-tf-py"
  },
  "language_info": {
   "codemirror_mode": {
    "name": "ipython",
    "version": 3
   },
   "file_extension": ".py",
   "mimetype": "text/x-python",
   "name": "python",
   "nbconvert_exporter": "python",
   "pygments_lexer": "ipython3",
   "version": "3.9.7"
  }
 },
 "nbformat": 4,
 "nbformat_minor": 5
}
