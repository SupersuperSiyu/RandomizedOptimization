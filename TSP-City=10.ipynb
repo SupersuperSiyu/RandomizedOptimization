{
 "cells": [
  {
   "cell_type": "code",
   "execution_count": 1,
   "id": "ad09246b",
   "metadata": {},
   "outputs": [],
   "source": [
    "import mlrose_hiive\n",
    "import numpy as np\n",
    "\n",
    "from mlrose_hiive import QueensGenerator, MaxKColorGenerator, TSPGenerator\n",
    "from mlrose_hiive import SARunner, GARunner, NNGSRunner\n",
    "from matplotlib import pyplot as plt\n",
    "from numpy import inf\n",
    "import time"
   ]
  },
  {
   "cell_type": "code",
   "execution_count": 2,
   "id": "732ea90f",
   "metadata": {},
   "outputs": [],
   "source": [
    "# Generate a new TSP problem using a fixed seed.\n",
    "problem_fit = TSPGenerator().generate(seed=123456, number_of_cities=10)"
   ]
  },
  {
   "cell_type": "code",
   "execution_count": 3,
   "id": "e3055bdf",
   "metadata": {},
   "outputs": [
    {
     "name": "stdout",
     "output_type": "stream",
     "text": [
      "1.1220324039459229\n",
      "[3 9 7 4 5 6 2 1 8 0]\n",
      "712.4692884672162\n"
     ]
    }
   ],
   "source": [
    "# Solve problem using the genetic algorithm\n",
    "#GA POPSIZE = 200\n",
    "start = time.time()\n",
    "best_state, best_fitness,fitness_curve = mlrose_hiive.genetic_alg(problem_fit, max_attempts=100,random_state = 2,curve=True,max_iters=50,pop_size=200)\n",
    "end = time.time()\n",
    "print(end-start)\n",
    "print(best_state)\n",
    "print(best_fitness)"
   ]
  },
  {
   "cell_type": "code",
   "execution_count": 5,
   "id": "b2345a21",
   "metadata": {},
   "outputs": [],
   "source": [
    "curve_GA = fitness_curve\n",
    "fitness_GA = best_fitness"
   ]
  },
  {
   "cell_type": "code",
   "execution_count": 4,
   "id": "c66f756d",
   "metadata": {},
   "outputs": [
    {
     "name": "stdout",
     "output_type": "stream",
     "text": [
      "0.8394882678985596\n",
      "[1 8 0 3 9 7 4 5 6 2]\n",
      "712.4692884672163\n"
     ]
    }
   ],
   "source": [
    "#GA POPSIZE = 250\n",
    "start = time.time()\n",
    "best_state, best_fitness,fitness_curve_pro = mlrose_hiive.genetic_alg(problem_fit, max_attempts=100,random_state = 2,curve=True,max_iters=50,pop_size=250)\n",
    "end = time.time()\n",
    "print(end-start)\n",
    "print(best_state)\n",
    "print(best_fitness)"
   ]
  },
  {
   "cell_type": "code",
   "execution_count": 5,
   "id": "f36514e2",
   "metadata": {},
   "outputs": [
    {
     "name": "stdout",
     "output_type": "stream",
     "text": [
      "0.16971731185913086\n",
      "[7 9 3 0 8 1 2 6 5 4]\n",
      "712.4692884672162\n"
     ]
    }
   ],
   "source": [
    "#GA POPSIZE = 150\n",
    "start = time.time()\n",
    "best_state, best_fitness,fitness_curve_pro2 = mlrose_hiive.genetic_alg(problem_fit, max_attempts=100,random_state = 2,curve=True,max_iters=50,pop_size=50)\n",
    "end = time.time()\n",
    "print(end-start)\n",
    "print(best_state)\n",
    "print(best_fitness)"
   ]
  },
  {
   "cell_type": "code",
   "execution_count": 6,
   "id": "91467328",
   "metadata": {},
   "outputs": [
    {
     "data": {
      "text/plain": [
       "<matplotlib.legend.Legend at 0x20b894e9040>"
      ]
     },
     "execution_count": 6,
     "metadata": {},
     "output_type": "execute_result"
    },
    {
     "data": {
      "image/png": "[encoded data removed]",
      "text/plain": [
       "<Figure size 432x288 with 1 Axes>"
      ]
     },
     "metadata": {
      "needs_background": "light"
     },
     "output_type": "display_data"
    }
   ],
   "source": [
    "# Note that even in the OO-style, we use `.pyplot.figure` to create the figure.\n",
    "fig, ax = plt.subplots()  # Create a figure and an axes.\n",
    "ax.plot(range(0,len(list(fitness_curve_pro2))), fitness_curve_pro2[:,0], label='pop_size = 150')  # ... and some more.\n",
    "ax.plot(range(0,len(list(fitness_curve))), fitness_curve[:,0], label='pop_size = 200')  # Plot some data on the axes.\n",
    "ax.plot(range(0,len(list(fitness_curve_pro))), fitness_curve_pro[:,0], label='pop_size = 250')  # Plot more data on the axes...\n",
    "ax.set_xlabel('Iterations')  # Add an x-label to the axes.\n",
    "ax.set_ylabel('Fitness')  # Add a y-label to the axes.\n",
    "ax.set_title(\"Genetic Algorithm Iteration vs Fitness\")  # Add a title to the axes.\n",
    "ax.legend()  # Add a legend."
   ]
  },
  {
   "cell_type": "code",
   "execution_count": 9,
   "id": "62e6312b",
   "metadata": {},
   "outputs": [
    {
     "name": "stdout",
     "output_type": "stream",
     "text": [
      "0.006000995635986328\n",
      "[9 3 0 8 6 2 1 5 4 7]\n",
      "842.6078455728849\n"
     ]
    }
   ],
   "source": [
    "#RCH RESTARTS=0\n",
    "start = time.time()\n",
    "best_state, best_fitness,fitness_curve = mlrose_hiive.random_hill_climb(problem_fit, max_attempts=100, max_iters=100, restarts=0, init_state=None, curve=True, random_state=2)\n",
    "end = time.time()\n",
    "print(end-start)\n",
    "print(best_state)\n",
    "print(best_fitness)"
   ]
  },
  {
   "cell_type": "code",
   "execution_count": 6,
   "id": "89090a4c",
   "metadata": {},
   "outputs": [
    {
     "name": "stdout",
     "output_type": "stream",
     "text": [
      "0.08259773254394531\n",
      "[7 9 3 0 8 1 2 6 5 4]\n",
      "712.4692884672162\n"
     ]
    }
   ],
   "source": [
    "#RCH RESTARTS=10\n",
    "start = time.time()\n",
    "best_state, best_fitness,fitness_curve_pro = mlrose_hiive.random_hill_climb(problem_fit, max_attempts=100, max_iters=100, restarts=10, init_state=None, curve=True, random_state=2)\n",
    "end = time.time()\n",
    "print(end-start)\n",
    "print(best_state)\n",
    "print(best_fitness)"
   ]
  },
  {
   "cell_type": "code",
   "execution_count": 7,
   "id": "c973edfa",
   "metadata": {},
   "outputs": [],
   "source": [
    "curve_RHC = fitness_curve_pro\n",
    "fitness_RHC = best_fitness"
   ]
  },
  {
   "cell_type": "code",
   "execution_count": 11,
   "id": "77c277c8",
   "metadata": {},
   "outputs": [
    {
     "name": "stdout",
     "output_type": "stream",
     "text": [
      "0.031006813049316406\n",
      "[7 9 3 0 8 1 2 6 5 4]\n",
      "712.4692884672162\n"
     ]
    }
   ],
   "source": [
    "#RCH RESTARTS=5\n",
    "start = time.time()\n",
    "best_state, best_fitness,fitness_curve_pro2 = mlrose_hiive.random_hill_climb(problem_fit, max_attempts=100, max_iters=100, restarts=5, init_state=None, curve=True, random_state=1)\n",
    "end = time.time()\n",
    "print(end-start)\n",
    "print(best_state)\n",
    "print(best_fitness)"
   ]
  },
  {
   "cell_type": "code",
   "execution_count": 12,
   "id": "1fcac808",
   "metadata": {},
   "outputs": [
    {
     "data": {
      "text/plain": [
       "<matplotlib.legend.Legend at 0x20b895dddf0>"
      ]
     },
     "execution_count": 12,
     "metadata": {},
     "output_type": "execute_result"
    },
    {
     "data": {
      "image/png": "[encoded data removed]",
      "text/plain": [
       "<Figure size 432x288 with 1 Axes>"
      ]
     },
     "metadata": {
      "needs_background": "light"
     },
     "output_type": "display_data"
    }
   ],
   "source": [
    "# Note that even in the OO-style, we use `.pyplot.figure` to create the figure.\n",
    "fig, ax = plt.subplots()  # Create a figure and an axes.\n",
    "ax.plot(range(0,len(list(fitness_curve))), fitness_curve[:,0], label='restarts = 0')  # Plot some data on the axes.\n",
    "ax.plot(range(0,len(list(fitness_curve_pro2))), fitness_curve_pro2[:,0], label='restarts = 5')  # ... and some more.\n",
    "ax.plot(range(0,len(list(fitness_curve_pro))), fitness_curve_pro[:,0], label='restarts = 10')  # Plot more data on the axes...\n",
    "ax.set_xlabel('Iterations')  # Add an x-label to the axes.\n",
    "ax.set_ylabel('Fitness')  # Add a y-label to the axes.\n",
    "ax.set_title(\"Random Hill Climbing Iteration vs Fitness\")  # Add a title to the axes.\n",
    "ax.legend()  # Add a legend."
   ]
  },
  {
   "cell_type": "code",
   "execution_count": 15,
   "id": "7c2a75aa",
   "metadata": {},
   "outputs": [
    {
     "name": "stdout",
     "output_type": "stream",
     "text": [
      "0.010001182556152344\n",
      "[4 7 9 3 0 8 1 2 6 5]\n",
      "712.4692884672163\n"
     ]
    }
   ],
   "source": [
    "#SA schedule = geomdecay\n",
    "start = time.time()\n",
    "schedule = mlrose_hiive.GeomDecay(init_temp=10, decay=0.95, min_temp=1)\n",
    "best_state, best_fitness, fitness_curve = mlrose_hiive.simulated_annealing(problem_fit, max_attempts=100, max_iters=inf, init_state=None, curve=True, random_state=1)\n",
    "end = time.time()\n",
    "print(end-start)\n",
    "print(best_state)\n",
    "print(best_fitness)"
   ]
  },
  {
   "cell_type": "code",
   "execution_count": 16,
   "id": "abca7ab6",
   "metadata": {},
   "outputs": [
    {
     "name": "stdout",
     "output_type": "stream",
     "text": [
      "0.01201939582824707\n",
      "[9 3 0 8 1 2 6 5 4 7]\n",
      "712.4692884672163\n"
     ]
    }
   ],
   "source": [
    "#SA schedule = arithdecay\n",
    "start = time.time()\n",
    "schedule = mlrose_hiive.ArithDecay(init_temp=10, decay=0.95, min_temp=1)\n",
    "best_state, best_fitness, fitness_curve_pro = mlrose_hiive.simulated_annealing(problem_fit, schedule=schedule, max_attempts=100, max_iters=inf, init_state=None, curve=True, random_state=2)\n",
    "end = time.time()\n",
    "print(end-start)\n",
    "print(best_state)\n",
    "print(best_fitness)"
   ]
  },
  {
   "cell_type": "code",
   "execution_count": 19,
   "id": "776eba1a",
   "metadata": {},
   "outputs": [
    {
     "name": "stdout",
     "output_type": "stream",
     "text": [
      "0.012004852294921875\n",
      "[1 2 6 5 4 7 9 3 0 8]\n",
      "712.4692884672163\n"
     ]
    }
   ],
   "source": [
    "#SA schedule = expdecay\n",
    "start = time.time()\n",
    "schedule = mlrose_hiive.ExpDecay(init_temp=10, exp_const=0.05, min_temp=1)\n",
    "best_state, best_fitness, fitness_curve_pro2 = mlrose_hiive.simulated_annealing(problem_fit, schedule=schedule, max_attempts=100, max_iters=inf, init_state=None, curve=True, random_state=3)\n",
    "end = time.time()\n",
    "print(end-start)\n",
    "print(best_state)\n",
    "print(best_fitness)"
   ]
  },
  {
   "cell_type": "code",
   "execution_count": 20,
   "id": "ca9b751a",
   "metadata": {},
   "outputs": [
    {
     "data": {
      "text/plain": [
       "<matplotlib.legend.Legend at 0x20b8975c340>"
      ]
     },
     "execution_count": 20,
     "metadata": {},
     "output_type": "execute_result"
    },
    {
     "data": {
      "image/png": "[encoded data removed]",
      "text/plain": [
       "<Figure size 432x288 with 1 Axes>"
      ]
     },
     "metadata": {
      "needs_background": "light"
     },
     "output_type": "display_data"
    }
   ],
   "source": [
    "# Note that even in the OO-style, we use `.pyplot.figure` to create the figure.\n",
    "fig, ax = plt.subplots()  # Create a figure and an axes.\n",
    "ax.plot(range(0,len(list(fitness_curve))), fitness_curve[:,0], label='schedule = GeomDecay')  # Plot some data on the axes.\n",
    "ax.plot(range(0,len(list(fitness_curve_pro2))), fitness_curve_pro2[:,0], label='schedule = ExpDecay')  # ... and some more.\n",
    "ax.plot(range(0,len(list(fitness_curve_pro))), fitness_curve_pro[:,0], label='schedule = ArithDecay')  # Plot more data on the axes...\n",
    "ax.set_xlabel('Iterations')  # Add an x-label to the axes.\n",
    "ax.set_ylabel('Fitness')  # Add a y-label to the axes.\n",
    "ax.set_title(\"Simulated Annealing Iteration vs Fitness\")  # Add a title to the axes.\n",
    "ax.legend()  # Add a legend."
   ]
  },
  {
   "cell_type": "code",
   "execution_count": 21,
   "id": "decc4f65",
   "metadata": {},
   "outputs": [
    {
     "name": "stdout",
     "output_type": "stream",
     "text": [
      "0.011705160140991211\n",
      "[4 7 9 3 0 8 1 2 6 5]\n",
      "712.4692884672163\n"
     ]
    }
   ],
   "source": [
    "#SA schedule = geomdecay\n",
    "start = time.time()\n",
    "schedule = mlrose_hiive.GeomDecay(init_temp=10, decay=0.95, min_temp=1)\n",
    "best_state, best_fitness, fitness_curve = mlrose_hiive.simulated_annealing(problem_fit, max_attempts=100, max_iters=inf, init_state=None, curve=True, random_state=1)\n",
    "end = time.time()\n",
    "print(end-start)\n",
    "print(best_state)\n",
    "print(best_fitness)"
   ]
  },
  {
   "cell_type": "code",
   "execution_count": 22,
   "id": "10f6eafd",
   "metadata": {},
   "outputs": [
    {
     "name": "stdout",
     "output_type": "stream",
     "text": [
      "0.013003826141357422\n",
      "[9 3 0 8 1 2 6 5 4 7]\n",
      "712.4692884672163\n"
     ]
    }
   ],
   "source": [
    "#SA schedule = geomdecay decay 0.75\n",
    "start = time.time()\n",
    "schedule = mlrose_hiive.GeomDecay(init_temp=10, decay=0.75, min_temp=1)\n",
    "best_state, best_fitness, fitness_curve_pro = mlrose_hiive.simulated_annealing(problem_fit, max_attempts=100, max_iters=inf, init_state=None, curve=True, random_state=2)\n",
    "end = time.time()\n",
    "print(end-start)\n",
    "print(best_state)\n",
    "print(best_fitness)"
   ]
  },
  {
   "cell_type": "code",
   "execution_count": 23,
   "id": "50345f56",
   "metadata": {},
   "outputs": [
    {
     "name": "stdout",
     "output_type": "stream",
     "text": [
      "0.012003660202026367\n",
      "[1 2 6 5 4 7 9 3 0 8]\n",
      "712.4692884672163\n"
     ]
    }
   ],
   "source": [
    "#SA schedule = geomdecay decay 0.55\n",
    "start = time.time()\n",
    "schedule = mlrose_hiive.GeomDecay(init_temp=10, decay=0.55, min_temp=1)\n",
    "best_state, best_fitness, fitness_curve_pro2 = mlrose_hiive.simulated_annealing(problem_fit, max_attempts=100, max_iters=inf, init_state=None, curve=True, random_state=3)\n",
    "end = time.time()\n",
    "print(end-start)\n",
    "print(best_state)\n",
    "print(best_fitness)"
   ]
  },
  {
   "cell_type": "code",
   "execution_count": 8,
   "id": "283a97aa",
   "metadata": {},
   "outputs": [
    {
     "name": "stdout",
     "output_type": "stream",
     "text": [
      "0.01679062843322754\n",
      "[3 0 8 1 2 6 5 4 7 9]\n",
      "712.4692884672163\n"
     ]
    }
   ],
   "source": [
    "#SA schedule = geomdecay decay 0.35\n",
    "start = time.time()\n",
    "schedule = mlrose_hiive.GeomDecay(init_temp=10, decay=0.35, min_temp=1)\n",
    "best_state, best_fitness, fitness_curve_pro3 = mlrose_hiive.simulated_annealing(problem_fit, max_attempts=100, max_iters=inf, init_state=None, curve=True, random_state=4)\n",
    "end = time.time()\n",
    "print(end-start)\n",
    "print(best_state)\n",
    "print(best_fitness)"
   ]
  },
  {
   "cell_type": "code",
   "execution_count": 9,
   "id": "7a730db5",
   "metadata": {},
   "outputs": [],
   "source": [
    "curve_SA = fitness_curve_pro3\n",
    "fitness_SA = best_fitness"
   ]
  },
  {
   "cell_type": "code",
   "execution_count": 25,
   "id": "2cafe4ce",
   "metadata": {},
   "outputs": [
    {
     "name": "stdout",
     "output_type": "stream",
     "text": [
      "0.014003276824951172\n",
      "[5 6 2 1 8 0 3 9 7 4]\n",
      "712.4692884672162\n"
     ]
    }
   ],
   "source": [
    "#SA schedule = geomdecay decay 0.15\n",
    "start = time.time()\n",
    "schedule = mlrose_hiive.GeomDecay(init_temp=10, decay=0.15, min_temp=1)\n",
    "best_state, best_fitness, fitness_curve_pro4 = mlrose_hiive.simulated_annealing(problem_fit, max_attempts=100, max_iters=inf, init_state=None, curve=True, random_state=5)\n",
    "end = time.time()\n",
    "print(end-start)\n",
    "print(best_state)\n",
    "print(best_fitness)"
   ]
  },
  {
   "cell_type": "code",
   "execution_count": 26,
   "id": "74281710",
   "metadata": {},
   "outputs": [
    {
     "data": {
      "text/plain": [
       "<matplotlib.legend.Legend at 0x20b897cebb0>"
      ]
     },
     "execution_count": 26,
     "metadata": {},
     "output_type": "execute_result"
    },
    {
     "data": {
      "image/png": "[encoded data removed]",
      "text/plain": [
       "<Figure size 432x288 with 1 Axes>"
      ]
     },
     "metadata": {
      "needs_background": "light"
     },
     "output_type": "display_data"
    }
   ],
   "source": [
    "# Note that even in the OO-style, we use `.pyplot.figure` to create the figure.\n",
    "fig, ax = plt.subplots()  # Create a figure and an axes.\n",
    "ax.plot(range(0,len(list(fitness_curve))), fitness_curve[:,0], label='decay = 0.95')  # Plot some data on the axes.\n",
    "ax.plot(range(0,len(list(fitness_curve_pro))), fitness_curve_pro[:,0], label='decay = 0.75')  # Plot more data on the axes...\n",
    "ax.plot(range(0,len(list(fitness_curve_pro2))), fitness_curve_pro2[:,0], label='decay = 0.55')  # ... and some more.\n",
    "ax.plot(range(0,len(list(fitness_curve_pro3))), fitness_curve_pro3[:,0], label='decay = 0.35')  # ... and some more.\n",
    "ax.plot(range(0,len(list(fitness_curve_pro4))), fitness_curve_pro4[:,0], label='decay = 0.15')  # ... and some more.\n",
    "ax.set_xlabel('Iterations')  # Add an x-label to the axes.\n",
    "ax.set_ylabel('Fitness')  # Add a y-label to the axes.\n",
    "ax.set_title(\"Simulated Annealing Iteration vs Fitness with Different Initial Temprature\")  # Add a title to the axes.\n",
    "ax.legend()  # Add a legend."
   ]
  },
  {
   "cell_type": "code",
   "execution_count": 29,
   "id": "e834013c",
   "metadata": {},
   "outputs": [
    {
     "name": "stdout",
     "output_type": "stream",
     "text": [
      "8.907653570175171\n",
      "[9 4 7 3 0 8 1 6 2 5]\n",
      "892.1169872534932\n"
     ]
    }
   ],
   "source": [
    "#MIMIC POPSIZE = 200\n",
    "start = time.time()\n",
    "best_state, best_fitness, fitness_curve = mlrose_hiive.mimic(problem_fit, pop_size=200, keep_pct=0.2, max_attempts=100, max_iters=inf, curve=True, random_state=2)\n",
    "end = time.time()\n",
    "print(end-start)\n",
    "print(best_state)\n",
    "print(best_fitness)"
   ]
  },
  {
   "cell_type": "code",
   "execution_count": 10,
   "id": "6567af6f",
   "metadata": {},
   "outputs": [
    {
     "name": "stdout",
     "output_type": "stream",
     "text": [
      "15.665591478347778\n",
      "[3 8 0 9 7 4 5 6 2 1]\n",
      "789.7546712472574\n"
     ]
    }
   ],
   "source": [
    "#MIMIC POPSIZE = 250\n",
    "start = time.time()\n",
    "best_state, best_fitness, fitness_curve_pro = mlrose_hiive.mimic(problem_fit, pop_size=250, keep_pct=0.2, max_attempts=100, max_iters=inf, curve=True, random_state=2)\n",
    "end = time.time()\n",
    "print(end-start)\n",
    "print(best_state)\n",
    "print(best_fitness)"
   ]
  },
  {
   "cell_type": "code",
   "execution_count": 11,
   "id": "d504a0e5",
   "metadata": {},
   "outputs": [],
   "source": [
    "curve_MIMIC = fitness_curve_pro\n",
    "fitness_MIMIC = best_fitness"
   ]
  },
  {
   "cell_type": "code",
   "execution_count": 31,
   "id": "092365bf",
   "metadata": {},
   "outputs": [
    {
     "name": "stdout",
     "output_type": "stream",
     "text": [
      "7.003309726715088\n",
      "[9 7 0 8 3 1 2 6 5 4]\n",
      "842.4823105291886\n"
     ]
    }
   ],
   "source": [
    "#MIMIC POPSIZE = 150\n",
    "start = time.time()\n",
    "best_state, best_fitness, fitness_curve_pro2 = mlrose_hiive.mimic(problem_fit, pop_size=150, keep_pct=0.2, max_attempts=100, max_iters=inf, curve=True, random_state=2)\n",
    "end = time.time()\n",
    "print(end-start)\n",
    "print(best_state)\n",
    "print(best_fitness)"
   ]
  },
  {
   "cell_type": "code",
   "execution_count": 32,
   "id": "9e5defaf",
   "metadata": {},
   "outputs": [
    {
     "data": {
      "text/plain": [
       "<matplotlib.legend.Legend at 0x20b89868df0>"
      ]
     },
     "execution_count": 32,
     "metadata": {},
     "output_type": "execute_result"
    },
    {
     "data": {
      "image/png": "[encoded data removed]",
      "text/plain": [
       "<Figure size 432x288 with 1 Axes>"
      ]
     },
     "metadata": {
      "needs_background": "light"
     },
     "output_type": "display_data"
    }
   ],
   "source": [
    "# Note that even in the OO-style, we use `.pyplot.figure` to create the figure.\n",
    "fig, ax = plt.subplots()  # Create a figure and an axes.\n",
    "ax.plot(range(0,len(list(fitness_curve_pro2))), fitness_curve_pro2[:,0], label='pop_size = 150')  # ... and some more.\n",
    "ax.plot(range(0,len(list(fitness_curve))), fitness_curve[:,0], label='pop_size = 200')  # Plot some data on the axes.\n",
    "ax.plot(range(0,len(list(fitness_curve_pro))), fitness_curve_pro[:,0], label='pop_size = 250')  # Plot more data on the axes...\n",
    "ax.set_xlabel('Iterations')  # Add an x-label to the axes.\n",
    "ax.set_ylabel('Fitness')  # Add a y-label to the axes.\n",
    "ax.set_title(\"MIMIC Iteration vs Fitness\")  # Add a title to the axes.\n",
    "ax.legend()  # Add a legend."
   ]
  },
  {
   "cell_type": "code",
   "execution_count": 14,
   "id": "af15ac33",
   "metadata": {},
   "outputs": [
    {
     "data": {
      "text/plain": [
       "<matplotlib.legend.Legend at 0x1a171ccadc0>"
      ]
     },
     "execution_count": 14,
     "metadata": {},
     "output_type": "execute_result"
    },
    {
     "data": {
      "image/png": "[encoded data removed]",
      "text/plain": [
       "<Figure size 432x288 with 1 Axes>"
      ]
     },
     "metadata": {
      "needs_background": "light"
     },
     "output_type": "display_data"
    }
   ],
   "source": [
    "# Note that even in the OO-style, we use `.pyplot.figure` to create the figure.\n",
    "fig, ax = plt.subplots()  # Create a figure and an axes.\n",
    "ax.plot(range(0,len(list(curve_GA))), -curve_GA[:,0], label='GA')  # ... and some more.\n",
    "ax.plot(range(0,len(list(curve_RHC))), -curve_RHC[:,0], label='RHC')  # Plot some data on the axes.\n",
    "ax.plot(range(0,len(list(curve_SA))), -curve_SA[:,0], label='SA')  # Plot more data on the axes...\n",
    "ax.plot(range(0,len(list(curve_MIMIC))), -curve_MIMIC[:,0], label='MIMIC')  # Plot more data on the axes...\n",
    "ax.set_xlabel('Iterations')  # Add an x-label to the axes.\n",
    "ax.set_ylabel('Fitness')  # Add a y-label to the axes.\n",
    "ax.set_title(\"Iteration vs Fitness in TravellingSales Problem (number_of_cities=10)\")  # Add a title to the axes.\n",
    "ax.legend()  # Add a legend."
   ]
  },
  {
   "cell_type": "code",
   "execution_count": null,
   "id": "29bb1c29",
   "metadata": {},
   "outputs": [],
   "source": []
  }
 ],
 "metadata": {
  "kernelspec": {
   "display_name": "Python [conda env:tf]",
   "language": "python",
   "name": "conda-env-tf-py"
  },
  "language_info": {
   "codemirror_mode": {
    "name": "ipython",
    "version": 3
   },
   "file_extension": ".py",
   "mimetype": "text/x-python",
   "name": "python",
   "nbconvert_exporter": "python",
   "pygments_lexer": "ipython3",
   "version": "3.9.7"
  }
 },
 "nbformat": 4,
 "nbformat_minor": 5
}
