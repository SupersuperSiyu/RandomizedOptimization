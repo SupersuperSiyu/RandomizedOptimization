{
 "cells": [
  {
   "cell_type": "code",
   "execution_count": 3,
   "id": "ad09246b",
   "metadata": {},
   "outputs": [],
   "source": [
    "import mlrose_hiive\n",
    "import numpy as np\n",
    "\n",
    "from mlrose_hiive import FlipFlopGenerator\n",
    "from mlrose_hiive import SARunner, GARunner, NNGSRunner\n",
    "from matplotlib import pyplot as plt\n",
    "from numpy import inf\n",
    "import time"
   ]
  },
  {
   "cell_type": "code",
   "execution_count": 4,
   "id": "732ea90f",
   "metadata": {},
   "outputs": [],
   "source": [
    "# Generate a new TSP problem using a fixed seed.\n",
    "problem_fit = FlipFlopGenerator().generate(seed=123456, size=20)"
   ]
  },
  {
   "cell_type": "code",
   "execution_count": 3,
   "id": "e3055bdf",
   "metadata": {},
   "outputs": [
    {
     "name": "stdout",
     "output_type": "stream",
     "text": [
      "0.36766862869262695\n",
      "[0. 1. 0. 1. 0. 1. 0. 1. 0. 1. 0. 1. 0. 1. 0. 1. 0. 1. 0. 1.]\n",
      "19.0\n"
     ]
    }
   ],
   "source": [
    "# Solve problem using the genetic algorithm\n",
    "#GA POPSIZE = 200\n",
    "start = time.time()\n",
    "best_state, best_fitness,fitness_curve = mlrose_hiive.genetic_alg(problem_fit, max_attempts=100,random_state = 2,curve=True,max_iters=50,pop_size=200)\n",
    "end = time.time()\n",
    "print(end-start)\n",
    "print(best_state)\n",
    "print(best_fitness)"
   ]
  },
  {
   "cell_type": "code",
   "execution_count": 14,
   "id": "c66f756d",
   "metadata": {},
   "outputs": [
    {
     "name": "stdout",
     "output_type": "stream",
     "text": [
      "0.5473611354827881\n",
      "[0. 1. 0. 1. 0. 1. 0. 1. 0. 1. 0. 1. 0. 1. 0. 1. 0. 1. 0. 1.]\n",
      "19.0\n"
     ]
    }
   ],
   "source": [
    "#GA POPSIZE = 250\n",
    "start = time.time()\n",
    "best_state, best_fitness,fitness_curve_pro = mlrose_hiive.genetic_alg(problem_fit, max_attempts=100,random_state = 2,curve=True,max_iters=50,pop_size=250)\n",
    "end = time.time()\n",
    "print(end-start)\n",
    "print(best_state)\n",
    "print(best_fitness)"
   ]
  },
  {
   "cell_type": "code",
   "execution_count": 15,
   "id": "b2345a21",
   "metadata": {},
   "outputs": [],
   "source": [
    "curve_GA = fitness_curve_pro\n",
    "fitness_GA = best_fitness\n",
    "time_GA = end-start"
   ]
  },
  {
   "cell_type": "code",
   "execution_count": 6,
   "id": "f36514e2",
   "metadata": {},
   "outputs": [
    {
     "name": "stdout",
     "output_type": "stream",
     "text": [
      "0.09456801414489746\n",
      "[1. 0. 1. 0. 1. 0. 1. 0. 1. 0. 1. 1. 0. 1. 0. 1. 0. 1. 0. 1.]\n",
      "18.0\n"
     ]
    }
   ],
   "source": [
    "#GA POPSIZE = 150\n",
    "start = time.time()\n",
    "best_state, best_fitness,fitness_curve_pro2 = mlrose_hiive.genetic_alg(problem_fit, max_attempts=100,random_state = 2,curve=True,max_iters=50,pop_size=50)\n",
    "end = time.time()\n",
    "print(end-start)\n",
    "print(best_state)\n",
    "print(best_fitness)"
   ]
  },
  {
   "cell_type": "code",
   "execution_count": 7,
   "id": "91467328",
   "metadata": {},
   "outputs": [
    {
     "data": {
      "text/plain": [
       "<matplotlib.legend.Legend at 0x21b02f29220>"
      ]
     },
     "execution_count": 7,
     "metadata": {},
     "output_type": "execute_result"
    },
    {
     "data": {
      "image/png": "[encoded data removed]",
      "text/plain": [
       "<Figure size 432x288 with 1 Axes>"
      ]
     },
     "metadata": {
      "needs_background": "light"
     },
     "output_type": "display_data"
    }
   ],
   "source": [
    "# Note that even in the OO-style, we use `.pyplot.figure` to create the figure.\n",
    "fig, ax = plt.subplots()  # Create a figure and an axes.\n",
    "ax.plot(range(0,len(list(fitness_curve_pro2))), fitness_curve_pro2[:,0], label='pop_size = 150')  # ... and some more.\n",
    "ax.plot(range(0,len(list(fitness_curve))), fitness_curve[:,0], label='pop_size = 200')  # Plot some data on the axes.\n",
    "ax.plot(range(0,len(list(fitness_curve_pro))), fitness_curve_pro[:,0], label='pop_size = 250')  # Plot more data on the axes...\n",
    "ax.set_xlabel('Iterations')  # Add an x-label to the axes.\n",
    "ax.set_ylabel('Fitness')  # Add a y-label to the axes.\n",
    "ax.set_title(\"Genetic Algorithm Iteration vs Fitness\")  # Add a title to the axes.\n",
    "ax.legend()  # Add a legend."
   ]
  },
  {
   "cell_type": "code",
   "execution_count": 12,
   "id": "62e6312b",
   "metadata": {},
   "outputs": [
    {
     "name": "stdout",
     "output_type": "stream",
     "text": [
      "0.005000591278076172\n",
      "[1 0 1 1 0 1 0 1 0 1 0 1 0 1 0 1 1 0 0 1]\n",
      "16.0\n"
     ]
    }
   ],
   "source": [
    "#RCH RESTARTS=0\n",
    "start = time.time()\n",
    "best_state, best_fitness,fitness_curve = mlrose_hiive.random_hill_climb(problem_fit, max_attempts=100, max_iters=100, restarts=0, init_state=None, curve=True, random_state=3)\n",
    "end = time.time()\n",
    "print(end-start)\n",
    "print(best_state)\n",
    "print(best_fitness)"
   ]
  },
  {
   "cell_type": "code",
   "execution_count": 16,
   "id": "89090a4c",
   "metadata": {},
   "outputs": [
    {
     "name": "stdout",
     "output_type": "stream",
     "text": [
      "0.07538723945617676\n",
      "[0 1 1 0 0 1 0 1 0 1 0 1 0 1 0 1 0 1 0 1]\n",
      "17.0\n"
     ]
    }
   ],
   "source": [
    "#RCH RESTARTS=10\n",
    "start = time.time()\n",
    "best_state, best_fitness,fitness_curve_pro = mlrose_hiive.random_hill_climb(problem_fit, max_attempts=100, max_iters=100, restarts=10, init_state=None, curve=True, random_state=2)\n",
    "end = time.time()\n",
    "print(end-start)\n",
    "print(best_state)\n",
    "print(best_fitness)"
   ]
  },
  {
   "cell_type": "code",
   "execution_count": 17,
   "id": "c973edfa",
   "metadata": {},
   "outputs": [],
   "source": [
    "curve_RHC = fitness_curve_pro\n",
    "fitness_RHC = best_fitness\n",
    "time_RHC = end-start"
   ]
  },
  {
   "cell_type": "code",
   "execution_count": 10,
   "id": "77c277c8",
   "metadata": {},
   "outputs": [
    {
     "name": "stdout",
     "output_type": "stream",
     "text": [
      "0.03400826454162598\n",
      "[0 1 0 1 0 1 0 1 0 1 0 0 1 0 1 0 1 0 0 1]\n",
      "17.0\n"
     ]
    }
   ],
   "source": [
    "#RCH RESTARTS=5\n",
    "start = time.time()\n",
    "best_state, best_fitness,fitness_curve_pro2 = mlrose_hiive.random_hill_climb(problem_fit, max_attempts=100, max_iters=100, restarts=5, init_state=None, curve=True, random_state=1)\n",
    "end = time.time()\n",
    "print(end-start)\n",
    "print(best_state)\n",
    "print(best_fitness)"
   ]
  },
  {
   "cell_type": "code",
   "execution_count": 13,
   "id": "1fcac808",
   "metadata": {},
   "outputs": [
    {
     "data": {
      "text/plain": [
       "<matplotlib.legend.Legend at 0x21b03102f10>"
      ]
     },
     "execution_count": 13,
     "metadata": {},
     "output_type": "execute_result"
    },
    {
     "data": {
      "image/png": "[encoded data removed]",
      "text/plain": [
       "<Figure size 432x288 with 1 Axes>"
      ]
     },
     "metadata": {
      "needs_background": "light"
     },
     "output_type": "display_data"
    }
   ],
   "source": [
    "# Note that even in the OO-style, we use `.pyplot.figure` to create the figure.\n",
    "fig, ax = plt.subplots()  # Create a figure and an axes.\n",
    "ax.plot(range(0,len(list(fitness_curve))), fitness_curve[:,0], label='restarts = 0')  # Plot some data on the axes.\n",
    "ax.plot(range(0,len(list(fitness_curve_pro2))), fitness_curve_pro2[:,0], label='restarts = 5')  # ... and some more.\n",
    "ax.plot(range(0,len(list(fitness_curve_pro))), fitness_curve_pro[:,0], label='restarts = 10')  # Plot more data on the axes...\n",
    "ax.set_xlabel('Iterations')  # Add an x-label to the axes.\n",
    "ax.set_ylabel('Fitness')  # Add a y-label to the axes.\n",
    "ax.set_title(\"Random Hill Climbing Iteration vs Fitness\")  # Add a title to the axes.\n",
    "ax.legend()  # Add a legend."
   ]
  },
  {
   "cell_type": "code",
   "execution_count": 5,
   "id": "7c2a75aa",
   "metadata": {},
   "outputs": [
    {
     "name": "stdout",
     "output_type": "stream",
     "text": [
      "0.09766721725463867\n",
      "[1 0 1 0 1 0 1 0 1 0 1 0 1 0 1 0 1 0 1 0]\n",
      "19.0\n"
     ]
    }
   ],
   "source": [
    "#SA schedule = geomdecay\n",
    "start = time.time()\n",
    "schedule = mlrose_hiive.GeomDecay(init_temp=10, decay=0.95, min_temp=1)\n",
    "best_state, best_fitness, fitness_curve = mlrose_hiive.simulated_annealing(problem_fit, max_attempts=100, max_iters=inf, init_state=None, curve=True, random_state=1)\n",
    "end = time.time()\n",
    "print(end-start)\n",
    "print(best_state)\n",
    "print(best_fitness)"
   ]
  },
  {
   "cell_type": "code",
   "execution_count": 18,
   "id": "97a5d6ea",
   "metadata": {},
   "outputs": [
    {
     "name": "stdout",
     "output_type": "stream",
     "text": [
      "0.024144649505615234\n",
      "[0 1 0 1 0 1 0 1 0 1 0 1 0 1 0 1 0 1 0 1]\n",
      "19.0\n"
     ]
    }
   ],
   "source": [
    "#SA schedule = geomdecay decay 0.75\n",
    "start = time.time()\n",
    "schedule = mlrose_hiive.GeomDecay(init_temp=10, decay=0.75, min_temp=1)\n",
    "best_state, best_fitness, fitness_curve_pro = mlrose_hiive.simulated_annealing(problem_fit, max_attempts=100, max_iters=inf, init_state=None, curve=True, random_state=2)\n",
    "end = time.time()\n",
    "print(end-start)\n",
    "print(best_state)\n",
    "print(best_fitness)"
   ]
  },
  {
   "cell_type": "code",
   "execution_count": 19,
   "id": "cbf1ab68",
   "metadata": {},
   "outputs": [],
   "source": [
    "curve_SA = fitness_curve_pro\n",
    "fitness_SA = best_fitness\n",
    "time_SA = end-start"
   ]
  },
  {
   "cell_type": "code",
   "execution_count": 8,
   "id": "c07c4418",
   "metadata": {},
   "outputs": [
    {
     "name": "stdout",
     "output_type": "stream",
     "text": [
      "0.22104454040527344\n",
      "[1 0 1 0 1 0 1 0 1 0 1 0 1 0 1 0 1 0 1 0]\n",
      "19.0\n"
     ]
    }
   ],
   "source": [
    "#SA schedule = geomdecay decay 0.55\n",
    "start = time.time()\n",
    "schedule = mlrose_hiive.GeomDecay(init_temp=10, decay=0.55, min_temp=1)\n",
    "best_state, best_fitness, fitness_curve_pro2 = mlrose_hiive.simulated_annealing(problem_fit, max_attempts=100, max_iters=inf, init_state=None, curve=True, random_state=3)\n",
    "end = time.time()\n",
    "print(end-start)\n",
    "print(best_state)\n",
    "print(best_fitness)"
   ]
  },
  {
   "cell_type": "code",
   "execution_count": 9,
   "id": "7724f5d0",
   "metadata": {},
   "outputs": [
    {
     "name": "stdout",
     "output_type": "stream",
     "text": [
      "0.03201794624328613\n",
      "[1 0 1 0 1 0 1 0 1 0 1 0 1 0 1 0 1 0 1 0]\n",
      "19.0\n"
     ]
    }
   ],
   "source": [
    "#SA schedule = geomdecay decay 0.35\n",
    "start = time.time()\n",
    "schedule = mlrose_hiive.GeomDecay(init_temp=10, decay=0.35, min_temp=1)\n",
    "best_state, best_fitness, fitness_curve_pro3 = mlrose_hiive.simulated_annealing(problem_fit, max_attempts=100, max_iters=inf, init_state=None, curve=True, random_state=6)\n",
    "end = time.time()\n",
    "print(end-start)\n",
    "print(best_state)\n",
    "print(best_fitness)"
   ]
  },
  {
   "cell_type": "code",
   "execution_count": 10,
   "id": "3d8a7a4f",
   "metadata": {},
   "outputs": [
    {
     "name": "stdout",
     "output_type": "stream",
     "text": [
      "0.054579973220825195\n",
      "[0 1 0 1 0 1 0 1 0 1 0 1 0 1 0 1 0 1 0 1]\n",
      "19.0\n"
     ]
    }
   ],
   "source": [
    "#SA schedule = geomdecay decay 0.15\n",
    "start = time.time()\n",
    "schedule = mlrose_hiive.GeomDecay(init_temp=10, decay=0.15, min_temp=1)\n",
    "best_state, best_fitness, fitness_curve_pro4 = mlrose_hiive.simulated_annealing(problem_fit, max_attempts=100, max_iters=inf, init_state=None, curve=True, random_state=5)\n",
    "end = time.time()\n",
    "print(end-start)\n",
    "print(best_state)\n",
    "print(best_fitness)"
   ]
  },
  {
   "cell_type": "code",
   "execution_count": 11,
   "id": "ca9b751a",
   "metadata": {},
   "outputs": [
    {
     "data": {
      "text/plain": [
       "<matplotlib.legend.Legend at 0x27a1050b820>"
      ]
     },
     "execution_count": 11,
     "metadata": {},
     "output_type": "execute_result"
    },
    {
     "data": {
      "image/png": "[encoded data removed]",
      "text/plain": [
       "<Figure size 432x288 with 1 Axes>"
      ]
     },
     "metadata": {
      "needs_background": "light"
     },
     "output_type": "display_data"
    }
   ],
   "source": [
    "# Note that even in the OO-style, we use `.pyplot.figure` to create the figure.\n",
    "fig, ax = plt.subplots()  # Create a figure and an axes.\n",
    "ax.plot(range(0,len(list(fitness_curve))), fitness_curve[:,0], label='decay = 0.95')  # Plot some data on the axes.\n",
    "ax.plot(range(0,len(list(fitness_curve_pro))), fitness_curve_pro[:,0], label='decay = 0.75')  # Plot more data on the axes...\n",
    "ax.plot(range(0,len(list(fitness_curve_pro2))), fitness_curve_pro2[:,0], label='decay = 0.55')  # ... and some more.\n",
    "ax.plot(range(0,len(list(fitness_curve_pro3))), fitness_curve_pro3[:,0], label='decay = 0.35')  # ... and some more.\n",
    "ax.plot(range(0,len(list(fitness_curve_pro4))), fitness_curve_pro4[:,0], label='decay = 0.15')  # ... and some more.\n",
    "ax.set_xlabel('Iterations')  # Add an x-label to the axes.\n",
    "ax.set_ylabel('Fitness')  # Add a y-label to the axes.\n",
    "ax.set_title(\"Simulated Annealing Iteration vs Fitness\")  # Add a title to the axes.\n",
    "ax.legend()  # Add a legend."
   ]
  },
  {
   "cell_type": "code",
   "execution_count": 24,
   "id": "e834013c",
   "metadata": {},
   "outputs": [
    {
     "name": "stdout",
     "output_type": "stream",
     "text": [
      "13.712368488311768\n",
      "[0 1 0 1 0 1 0 1 0 1 0 1 0 1 0 1 0 1 0 1]\n",
      "19.0\n"
     ]
    }
   ],
   "source": [
    "#MIMIC POPSIZE = 200\n",
    "start = time.time()\n",
    "best_state, best_fitness, fitness_curve = mlrose_hiive.mimic(problem_fit, pop_size=200, keep_pct=0.2, max_attempts=100, max_iters=inf, curve=True, random_state=2)\n",
    "end = time.time()\n",
    "print(end-start)\n",
    "print(best_state)\n",
    "print(best_fitness)"
   ]
  },
  {
   "cell_type": "code",
   "execution_count": 20,
   "id": "6567af6f",
   "metadata": {},
   "outputs": [
    {
     "name": "stdout",
     "output_type": "stream",
     "text": [
      "16.126213550567627\n",
      "[0 1 0 1 0 1 0 1 0 1 0 1 0 1 0 1 0 1 0 1]\n",
      "19.0\n"
     ]
    }
   ],
   "source": [
    "#MIMIC POPSIZE = 250\n",
    "start = time.time()\n",
    "best_state, best_fitness, fitness_curve_pro = mlrose_hiive.mimic(problem_fit, pop_size=250, keep_pct=0.2, max_attempts=100, max_iters=inf, curve=True, random_state=2)\n",
    "end = time.time()\n",
    "print(end-start)\n",
    "print(best_state)\n",
    "print(best_fitness)"
   ]
  },
  {
   "cell_type": "code",
   "execution_count": 21,
   "id": "d504a0e5",
   "metadata": {},
   "outputs": [],
   "source": [
    "curve_MIMIC = fitness_curve_pro\n",
    "fitness_MIMIC = best_fitness\n",
    "time_MIMIC = end - start"
   ]
  },
  {
   "cell_type": "code",
   "execution_count": 26,
   "id": "092365bf",
   "metadata": {},
   "outputs": [
    {
     "name": "stdout",
     "output_type": "stream",
     "text": [
      "13.154967308044434\n",
      "[1 0 1 0 1 1 0 1 0 1 0 1 0 1 0 1 0 1 0 1]\n",
      "18.0\n"
     ]
    }
   ],
   "source": [
    "#MIMIC POPSIZE = 150\n",
    "start = time.time()\n",
    "best_state, best_fitness, fitness_curve_pro2 = mlrose_hiive.mimic(problem_fit, pop_size=150, keep_pct=0.2, max_attempts=100, max_iters=inf, curve=True, random_state=2)\n",
    "end = time.time()\n",
    "print(end-start)\n",
    "print(best_state)\n",
    "print(best_fitness)"
   ]
  },
  {
   "cell_type": "code",
   "execution_count": 27,
   "id": "9e5defaf",
   "metadata": {},
   "outputs": [
    {
     "data": {
      "text/plain": [
       "<matplotlib.legend.Legend at 0x21b03228070>"
      ]
     },
     "execution_count": 27,
     "metadata": {},
     "output_type": "execute_result"
    },
    {
     "data": {
      "image/png": "[encoded data removed]",
      "text/plain": [
       "<Figure size 432x288 with 1 Axes>"
      ]
     },
     "metadata": {
      "needs_background": "light"
     },
     "output_type": "display_data"
    }
   ],
   "source": [
    "# Note that even in the OO-style, we use `.pyplot.figure` to create the figure.\n",
    "fig, ax = plt.subplots()  # Create a figure and an axes.\n",
    "ax.plot(range(0,len(list(fitness_curve_pro2))), fitness_curve_pro2[:,0], label='pop_size = 150')  # ... and some more.\n",
    "ax.plot(range(0,len(list(fitness_curve))), fitness_curve[:,0], label='pop_size = 200')  # Plot some data on the axes.\n",
    "ax.plot(range(0,len(list(fitness_curve_pro))), fitness_curve_pro[:,0], label='pop_size = 250')  # Plot more data on the axes...\n",
    "ax.set_xlabel('Iterations')  # Add an x-label to the axes.\n",
    "ax.set_ylabel('Fitness')  # Add a y-label to the axes.\n",
    "ax.set_title(\"MIMIC Iteration vs Fitness\")  # Add a title to the axes.\n",
    "ax.legend()  # Add a legend."
   ]
  },
  {
   "cell_type": "code",
   "execution_count": 23,
   "id": "51a98896",
   "metadata": {},
   "outputs": [
    {
     "data": {
      "text/plain": [
       "<matplotlib.legend.Legend at 0x27a10749130>"
      ]
     },
     "execution_count": 23,
     "metadata": {},
     "output_type": "execute_result"
    },
    {
     "data": {
      "image/png": "[encoded data removed]",
      "text/plain": [
       "<Figure size 432x288 with 1 Axes>"
      ]
     },
     "metadata": {
      "needs_background": "light"
     },
     "output_type": "display_data"
    }
   ],
   "source": [
    "# Note that even in the OO-style, we use `.pyplot.figure` to create the figure.\n",
    "fig, ax = plt.subplots()  # Create a figure and an axes.\n",
    "ax.plot(range(0,len(list(curve_GA))), curve_GA[:,0], label='GA')  # ... and some more.\n",
    "ax.plot(range(0,len(list(curve_RHC))), curve_RHC[:,0], label='RHC')  # Plot some data on the axes.\n",
    "ax.plot(range(0,len(list(curve_SA))), curve_SA[:,0], label='SA')  # Plot more data on the axes...\n",
    "ax.plot(range(0,len(list(curve_MIMIC))), curve_MIMIC[:,0], label='MIMIC')  # Plot more data on the axes...\n",
    "ax.set_xlabel('Iterations')  # Add an x-label to the axes.\n",
    "ax.set_ylabel('Fitness')  # Add a y-label to the axes.\n",
    "ax.set_title(\"Iteration vs Fitness in Flip Flop Problem (size=20)\")  # Add a title to the axes.\n",
    "ax.legend()  # Add a legend."
   ]
  },
  {
   "cell_type": "code",
   "execution_count": 24,
   "id": "6b664fc3",
   "metadata": {},
   "outputs": [
    {
     "data": {
      "image/png": "[encoded data removed]",
      "text/plain": [
       "<Figure size 432x360 with 1 Axes>"
      ]
     },
     "metadata": {
      "needs_background": "light"
     },
     "output_type": "display_data"
    }
   ],
   "source": [
    "fig = plt.figure(figsize = (6, 5))\n",
    "names = ['GA','RHC','SA','MIMIC'] \n",
    "runtime_list = [fitness_GA,fitness_RHC,fitness_SA,fitness_MIMIC]\n",
    "# creating the bar plot\n",
    "plt.bar(names,runtime_list, width = 0.2)\n",
    "plt.ylabel(\"Fitness\")\n",
    "plt.title(\"Best Fitness in Flip Flop Problem\")\n",
    "plt.show()"
   ]
  },
  {
   "cell_type": "code",
   "execution_count": 28,
   "id": "28a07a03",
   "metadata": {},
   "outputs": [
    {
     "data": {
      "image/png": "[encoded data removed]",
      "text/plain": [
       "<Figure size 432x360 with 1 Axes>"
      ]
     },
     "metadata": {
      "needs_background": "light"
     },
     "output_type": "display_data"
    }
   ],
   "source": [
    "fig = plt.figure(figsize = (6, 5))\n",
    "names = ['GA','RHC','SA'] \n",
    "runtime_list = [time_GA,time_RHC,time_SA]\n",
    "# creating the bar plot\n",
    "plt.bar(names,runtime_list, width = 0.2)\n",
    "plt.ylabel(\"Time\")\n",
    "plt.title(\"Running Time in Flip Flop Problem (size=20)\")\n",
    "plt.show()"
   ]
  },
  {
   "cell_type": "code",
   "execution_count": null,
   "id": "70082015",
   "metadata": {},
   "outputs": [],
   "source": []
  }
 ],
 "metadata": {
  "kernelspec": {
   "display_name": "Python [conda env:tf]",
   "language": "python",
   "name": "conda-env-tf-py"
  },
  "language_info": {
   "codemirror_mode": {
    "name": "ipython",
    "version": 3
   },
   "file_extension": ".py",
   "mimetype": "text/x-python",
   "name": "python",
   "nbconvert_exporter": "python",
   "pygments_lexer": "ipython3",
   "version": "3.9.7"
  }
 },
 "nbformat": 4,
 "nbformat_minor": 5
}
